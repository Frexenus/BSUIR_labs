{
 "cells": [
  {
   "cell_type": "code",
   "execution_count": 4,
   "metadata": {
    "collapsed": false
   },
   "outputs": [
    {
     "name": "stderr",
     "output_type": "stream",
     "text": [
      "C:\\Users\\keipa\\Anaconda2\\lib\\site-packages\\sklearn\\ensemble\\weight_boosting.py:29: DeprecationWarning: numpy.core.umath_tests is an internal NumPy module and should not be imported. It will be removed in a future NumPy release.\n",
      "  from numpy.core.umath_tests import inner1d\n"
     ]
    }
   ],
   "source": [
    "# -*- coding: utf-8 -*-\n",
    "\n",
    "import numpy as np\n",
    "import matplotlib.pyplot as plt\n",
    "import matplotlib.image as img\n",
    "from scipy import misc\n",
    "from datetime import datetime\n",
    "from tqdm import tqdm\n",
    "import pandas as pd\n",
    "import matplotlib.pyplot as plt\n",
    "from tqdm import tqdm\n",
    "from scipy.io import loadmat\n",
    "from mpl_toolkits.mplot3d import axes3d\n",
    "import matplotlib.pyplot as plt\n",
    "import numpy as np\n",
    "import copy\n",
    "from matplotlib import cm\n",
    "from matplotlib.animation import FuncAnimation\n",
    "import scipy.optimize\n",
    "import networkx as nx\n",
    "import os\n",
    "from sklearn import svm\n",
    "import sklearn.metrics\n",
    "from scipy.spatial.distance import cdist\n",
    "from scipy.cluster.hierarchy import fcluster\n",
    "from scipy.cluster import hierarchy\n",
    "from scipy.spatial.distance import pdist\n",
    "from scipy import stats\n",
    "from sklearn.linear_model import LogisticRegression, LinearRegression\n",
    "from sklearn.isotonic import  IsotonicRegression\n",
    "from sklearn.tree import *\n",
    "from sklearn.ensemble import *\n",
    "\n",
    "import math\n",
    "from sklearn.model_selection import train_test_split\n",
    "import matplotlib.image as mpimg\n",
    "\n",
    "np.random.seed(42)\n",
    "%matplotlib inline"
   ]
  },
  {
   "cell_type": "code",
   "execution_count": 5,
   "metadata": {
    "collapsed": false
   },
   "outputs": [
    {
     "data": {
      "text/plain": [
       "<matplotlib.image.AxesImage at 0x1faaa470>"
      ]
     },
     "execution_count": 5,
     "metadata": {},
     "output_type": "execute_result"
    },
    {
     "data": {
      "image/png": "[encoded data removed]",
      "text/plain": [
       "<Figure size 432x288 with 4 Axes>"
      ]
     },
     "metadata": {},
     "output_type": "display_data"
    }
   ],
   "source": [
    "# task 1\n",
    "# Загрузите данные и отобразите на экране несколько из изображений с помощью языка Python;\n",
    "\n",
    "imgA = mpimg.imread('notMNIST_small/A/MDEtMDEtMDAudHRm.png')\n",
    "imgB = mpimg.imread('notMNIST_small/B/MDEtMDEtMDAudHRm.png')\n",
    "imgC = mpimg.imread('notMNIST_small/C/MDEtMDEtMDAudHRm.png')\n",
    "imgD = mpimg.imread('notMNIST_small/D/MDEtMDEtMDAudHRm.png')\n",
    "\n",
    "f, axarr = plt.subplots(2,2)\n",
    "axarr[0,0].imshow(imgA, cmap=\"hot\")\n",
    "axarr[0,1].imshow(imgB)\n",
    "axarr[1,0].imshow(imgC, cmap=\"nipy_spectral\")\n",
    "axarr[1,1].imshow(imgD, cmap='plasma')"
   ]
  },
  {
   "cell_type": "code",
   "execution_count": 6,
   "metadata": {
    "collapsed": false
   },
   "outputs": [
    {
     "name": "stdout",
     "output_type": "stream",
     "text": [
      "notMNIST_small\n",
      "('A', 1873)\n",
      "('B', 1873)\n",
      "('C', 1873)\n",
      "('D', 1873)\n",
      "('E', 1873)\n",
      "('F', 1873)\n",
      "('G', 1872)\n",
      "('H', 1872)\n",
      "('I', 1872)\n",
      "('J', 1872)\n",
      "notMNIST_large\n",
      "('A', 52912)\n",
      "('B', 52912)\n",
      "('C', 52912)\n",
      "('D', 52912)\n",
      "('E', 52912)\n",
      "('F', 52912)\n",
      "('G', 52912)\n",
      "('H', 52912)\n",
      "('I', 52912)\n",
      "('J', 52911)\n"
     ]
    }
   ],
   "source": [
    "# task 2\n",
    "# Проверьте, что классы являются сбалансированными,\n",
    "#т.е. количество изображений, принадлежащих каждому из классов,\n",
    "# примерно одинаково (В данной задаче 10 классов).\n",
    "\n",
    "# check small dataset\n",
    "# check big dataset\n",
    "import os, os.path\n",
    "\n",
    "def dataset_analyse(path):\n",
    "    classes = [x[0] for x in os.walk(path)][1:]\n",
    "    print(path)\n",
    "    for _class in classes:\n",
    "        path, dirs, files = next(os.walk(_class))\n",
    "        print(_class.split(\"\\\\\")[1], len(files))\n",
    "\n",
    "dataset_analyse(\"notMNIST_small\")\n",
    "dataset_analyse(\"notMNIST_large\")"
   ]
  },
  {
   "cell_type": "code",
   "execution_count": 7,
   "metadata": {
    "collapsed": false
   },
   "outputs": [
    {
     "name": "stdout",
     "output_type": "stream",
     "text": [
      "529119\n",
      "461955\n",
      "200000\n",
      "10000\n",
      "19000\n"
     ]
    }
   ],
   "source": [
    "# task 3\n",
    "# Разделите данные на три подвыборки: \n",
    "# обучающую (200 тыс. изображений),\n",
    "# валидационную (10 тыс. изображений)\n",
    "# и контрольную (тестовую) (19 тыс. изображений);\n",
    "def split_dataset(dataset):\n",
    "    learn_dataset = dataset[0:200000]\n",
    "    print(len(learn_dataset))\n",
    "    validation_dataset = dataset[200000:210000]\n",
    "    print(len(validation_dataset))\n",
    "    test_dataset = dataset[210000:229000]\n",
    "    print(len(test_dataset))\n",
    "    return learn_dataset,validation_dataset,test_dataset\n",
    "\n",
    "def randomize_list(dataset):\n",
    "    from random import shuffle\n",
    "    shuffle(dataset)\n",
    "    return dataset\n",
    "\n",
    "from tqdm import tqdm\n",
    "import hashlib\n",
    "def md5(fname):\n",
    "    hash_md5 = hashlib.md5()\n",
    "    with open(fname, \"rb\") as f:\n",
    "        for chunk in iter(lambda: f.read(4096), b\"\"):\n",
    "            hash_md5.update(chunk)\n",
    "    return hash_md5.hexdigest()\n",
    "\n",
    "def get_all_files_recursively(path):\n",
    "    return [os.path.join(dp, f) for dp, dn, filenames in os.walk(path) for f in filenames]\n",
    "\n",
    "def remove_dublicates(dataset):\n",
    "    dublicate_remover = dict()\n",
    "    for file in dataset:\n",
    "        dublicate_remover[md5(file)] = file\n",
    "    return dublicate_remover.values()\n",
    "\n",
    "dataset = get_all_files_recursively(\"notMNIST_large\")\n",
    "print(len(dataset))\n",
    "# task 4\n",
    "\n",
    "# Проверьте, что данные из обучающей выборки не пересекаются \n",
    "# с данными из валидационной и контрольной выборок. \n",
    "# Другими словами, избавьтесь от дубликатов в обучающей выборке.\n",
    "dataset = remove_dublicates(dataset)\n",
    "print(len(dataset))\n",
    "dataset = randomize_list(dataset)\n",
    "learn_dataset,validation_dataset,test_dataset = split_dataset(dataset)"
   ]
  },
  {
   "cell_type": "code",
   "execution_count": 8,
   "metadata": {
    "collapsed": false
   },
   "outputs": [
    {
     "name": "stderr",
     "output_type": "stream",
     "text": [
      "100%|████████████████████████████████████████████████████████████████████████████████████████████████████████████████████████████████████████████████████████████████████████████████████████| 50/50 [00:00<00:00, 279.33it/s]\n",
      "100%|█████████████████████████████████████████████████████████████████████████████████████████████████████████████████████████████████████████████████████████████████████████████████| 19000/19000 [00:09<00:00, 1907.25it/s]\n"
     ]
    },
    {
     "name": "stdout",
     "output_type": "stream",
     "text": [
      "0.5352631578947369\n"
     ]
    },
    {
     "name": "stderr",
     "output_type": "stream",
     "text": [
      "100%|██████████████████████████████████████████████████████████████████████████████████████████████████████████████████████████████████████████████████████████████████████████████████████| 100/100 [00:00<00:00, 680.27it/s]\n",
      "100%|█████████████████████████████████████████████████████████████████████████████████████████████████████████████████████████████████████████████████████████████████████████████████| 19000/19000 [00:10<00:00, 1886.61it/s]\n"
     ]
    },
    {
     "name": "stdout",
     "output_type": "stream",
     "text": [
      "0.6625263157894736\n"
     ]
    },
    {
     "name": "stderr",
     "output_type": "stream",
     "text": [
      "100%|███████████████████████████████████████████████████████████████████████████████████████████████████████████████████████████████████████████████████████████████████████████████████| 1000/1000 [00:00<00:00, 1335.11it/s]\n",
      "100%|█████████████████████████████████████████████████████████████████████████████████████████████████████████████████████████████████████████████████████████████████████████████████| 19000/19000 [00:10<00:00, 1806.26it/s]\n"
     ]
    },
    {
     "name": "stdout",
     "output_type": "stream",
     "text": [
      "0.7252105263157895\n"
     ]
    },
    {
     "name": "stderr",
     "output_type": "stream",
     "text": [
      "100%|█████████████████████████████████████████████████████████████████████████████████████████████████████████████████████████████████████████████████████████████████████████████████| 50000/50000 [00:24<00:00, 2000.08it/s]\n",
      "100%|█████████████████████████████████████████████████████████████████████████████████████████████████████████████████████████████████████████████████████████████████████████████████| 19000/19000 [00:09<00:00, 2033.17it/s]\n"
     ]
    },
    {
     "name": "stdout",
     "output_type": "stream",
     "text": [
      "0.8068421052631579\n"
     ]
    }
   ],
   "source": [
    "from sklearn.linear_model import LogisticRegression\n",
    "# from tqdm.notebook import tqdm\n",
    "import numpy as np\n",
    "from PIL import Image\n",
    "\n",
    "alphabet = {'A':0, 'B':1, 'C':2, 'D':3, 'E':4, 'F':5, 'G':6, 'H':7, 'I':8, 'J':9}\n",
    "\n",
    "def Learn(X_train, y_train, X_test, y_test):\n",
    "    clf = LogisticRegression(random_state=0).fit(X_train, y_train)\n",
    "    predicted = clf.predict(X_test)\n",
    "    score = clf.score(X_test, y_test) \n",
    "    print(score)\n",
    "    return score\n",
    "\n",
    "def GetClassData(path):\n",
    "    return alphabet[path.split(\"\\\\\")[1]]\n",
    "\n",
    "\n",
    "def GetLearnData(learn_dataset, test_dataset, train_len):\n",
    "    X_train, y_train, X_test, y_test = [],[],[],[] \n",
    "    for index in tqdm(range(train_len)):\n",
    "        path = learn_dataset[index]\n",
    "        img = Image.open(path)\n",
    "        arr = np.array(img)\n",
    "        shape = arr.shape\n",
    "        flat_arr = arr.ravel()\n",
    "        X_train.append(flat_arr)\n",
    "        y_train.append(GetClassData(path))\n",
    "    for path in tqdm(test_dataset):\n",
    "        img = Image.open(path)\n",
    "        arr = np.array(img)\n",
    "        shape = arr.shape\n",
    "        flat_arr = arr.ravel()\n",
    "        X_test.append(flat_arr)\n",
    "        y_test.append(GetClassData(path))\n",
    "    return X_train, y_train, X_test, y_test\n",
    "\n",
    "probes = [50, 100, 1000, 50000]\n",
    "scores = []\n",
    "for probe in probes:\n",
    "    X_train, y_train, X_test, y_test = GetLearnData(learn_dataset, test_dataset, probe)\n",
    "    scores.append(Learn(X_train, y_train, X_test, y_test))"
   ]
  },
  {
   "cell_type": "code",
   "execution_count": 11,
   "metadata": {
    "collapsed": false
   },
   "outputs": [
    {
     "data": {
      "image/png": "[encoded data removed]",
      "text/plain": [
       "<Figure size 432x288 with 1 Axes>"
      ]
     },
     "metadata": {},
     "output_type": "display_data"
    }
   ],
   "source": [
    "# task 5\n",
    "# Постройте простейший классификатор (например, с помощью логистической регрессии). \n",
    "# Постройте график зависимости точности классификатора от размера обучающей выборки (50, 100, 1000, 50000). \n",
    "# Для построения классификатора можете использовать библиотеку SkLearn\n",
    "import matplotlib.pyplot as plt\n",
    "plt.scatter(probes, scores)\n",
    "plt.show()"
   ]
  },
  {
   "cell_type": "code",
   "execution_count": null,
   "metadata": {
    "collapsed": true
   },
   "outputs": [],
   "source": []
  }
 ],
 "metadata": {
  "kernelspec": {
   "display_name": "Python 2",
   "language": "python",
   "name": "python2"
  },
  "language_info": {
   "codemirror_mode": {
    "name": "ipython",
    "version": 2
   },
   "file_extension": ".py",
   "mimetype": "text/x-python",
   "name": "python",
   "nbconvert_exporter": "python",
   "pygments_lexer": "ipython2",
   "version": "2.7.13"
  }
 },
 "nbformat": 4,
 "nbformat_minor": 2
}
