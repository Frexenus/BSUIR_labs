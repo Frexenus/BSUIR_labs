{
 "cells": [
  {
   "cell_type": "code",
   "execution_count": 1,
   "metadata": {
    "collapsed": false
   },
   "outputs": [
    {
     "name": "stderr",
     "output_type": "stream",
     "text": [
      "C:\\Users\\keipa\\Anaconda2\\lib\\site-packages\\sklearn\\ensemble\\weight_boosting.py:29: DeprecationWarning: numpy.core.umath_tests is an internal NumPy module and should not be imported. It will be removed in a future NumPy release.\n",
      "  from numpy.core.umath_tests import inner1d\n"
     ]
    }
   ],
   "source": [
    "# -*- coding: utf-8 -*-\n",
    "\n",
    "import numpy as np\n",
    "import matplotlib.pyplot as plt\n",
    "import matplotlib.image as img\n",
    "from scipy import misc\n",
    "from datetime import datetime\n",
    "from tqdm import tqdm\n",
    "import pandas as pd\n",
    "import matplotlib.pyplot as plt\n",
    "from tqdm import tqdm\n",
    "from scipy.io import loadmat\n",
    "from mpl_toolkits.mplot3d import axes3d\n",
    "import matplotlib.pyplot as plt\n",
    "import numpy as np\n",
    "import copy\n",
    "from matplotlib import cm\n",
    "from matplotlib.animation import FuncAnimation\n",
    "import scipy.optimize\n",
    "import networkx as nx\n",
    "import os\n",
    "from sklearn import svm\n",
    "import sklearn.metrics\n",
    "from scipy.spatial.distance import cdist\n",
    "from scipy.cluster.hierarchy import fcluster\n",
    "from scipy.cluster import hierarchy\n",
    "from scipy.spatial.distance import pdist\n",
    "from scipy import stats\n",
    "from sklearn.linear_model import LogisticRegression, LinearRegression\n",
    "from sklearn.isotonic import  IsotonicRegression\n",
    "from sklearn.tree import *\n",
    "from sklearn.ensemble import *\n",
    "import math\n",
    "from sklearn.model_selection import train_test_split\n",
    "\n",
    "np.random.seed(42)"
   ]
  },
  {
   "cell_type": "markdown",
   "metadata": {},
   "source": [
    "**task 1**\n",
    "Изучите классическую работу У. Рурмаира о криптографических атаках с помощью машинного обучения на ФНФ.\n",
    "\n",
    "**task 2**\n",
    "Сформулируйте задачу в терминах машинного обучения.\n",
    "\n"
   ]
  },
  {
   "cell_type": "markdown",
   "metadata": {},
   "source": [
    "Задача - научить модель предсказывать ответы по набору запросов имитируя неклонируемую функцию.\n",
    "\n",
    "Каждый объект это набор сигналов 01010111\n",
    "\n",
    "Каждый ответ это число 0 или 1"
   ]
  },
  {
   "cell_type": "code",
   "execution_count": 6,
   "metadata": {
    "collapsed": false
   },
   "outputs": [
    {
     "name": "stdout",
     "output_type": "stream",
     "text": [
      "loading files...\n"
     ]
    },
    {
     "name": "stderr",
     "output_type": "stream",
     "text": [
      "100%|██████████████████████████████████████████████████████████████████████████| 10000/10000 [00:01<00:00, 7936.51it/s]\n"
     ]
    },
    {
     "name": "stdout",
     "output_type": "stream",
     "text": [
      "Prediction example x = [0 0 0 0 0 0 0 0 0 0 0 0 0 0 0 0 0 0 0 0 0 0 0 0 0 1 1 0 1 1 1 0 1 0 0 1 1\n",
      " 0 0 0 1 0 1 1 0 0 0 0 0 1 0 1 0 0 0 0 1 1 1 0 0 0 1 1 0 0 1 0 1 0 0 1 0 1\n",
      " 1 1 1 1 0 0 0 1 0 0 1 0 0 1 0 0 1 1 1 0 0 1 1 1 0 0 0 0 1 1 1 0 0 1 0 0 1\n",
      " 1 0 0 1 0 1 1 0 0 1 1 0 1 0 1 1 1], y = 1.0\n"
     ]
    }
   ],
   "source": [
    "def boston():\n",
    "    from sklearn.datasets import load_boston\n",
    "    boston = load_boston()\n",
    "\n",
    "    x = boston[\"data\"]\n",
    "    y = boston[\"target\"]\n",
    "    return x,y\n",
    "\n",
    "def puf(max_attrsize = 128, max_files = 1, max_lines = 1000, path = \"C:\\\\Users\\\\keipa\\\\Desktop\\\\labs\\\\bsuir-labs\\\\11cem\\\\ml\\\\lab11\\\\dataset\\\\\"):\n",
    "    import os\n",
    "    files = [path+file for file in os.listdir(path)][:max_files]\n",
    "    x = []\n",
    "    y = []\n",
    "    print(\"loading files...\")\n",
    "    for file in files:\n",
    "        with open(file) as f:\n",
    "            contents = f.readlines()[:max_lines]\n",
    "            for content in tqdm(contents):\n",
    "                sub_x, sub_y = content.split()\n",
    "                x_elem = [0 for _ in range(max_attrsize - len(sub_x))]+[int(ch) for ch in sub_x]\n",
    "                x.append(x_elem)\n",
    "                y.append(int(sub_y))\n",
    "    x = np.array(x)\n",
    "    y = np.array(y)\n",
    "    return x,y\n",
    "\n",
    "# x,y = boston()\n",
    "x,y = puf(max_lines = 10000)\n",
    "x_train, x_test, y_train, y_test = train_test_split(x, y,train_size=.75, test_size=.25, random_state=42)\n",
    "\n",
    "\n",
    "# task 3\n",
    "# Обучите модель, которая могла бы предсказывать ответы по запросам, которых нет в обучающей выборке.\n",
    "\n",
    "def pred_example():\n",
    "    regressor = DecisionTreeRegressor()\n",
    "    regressor.fit(x_train, y_train)\n",
    "    a1_pred = regressor.predict(x_test)\n",
    "    print(\"Prediction example x = {}, y = {}\".format(x_test[0], a1_pred[0]))\n",
    "\n",
    "pred_example()"
   ]
  },
  {
   "cell_type": "code",
   "execution_count": 7,
   "metadata": {
    "collapsed": false
   },
   "outputs": [
    {
     "name": "stdout",
     "output_type": "stream",
     "text": [
      "metrics\n",
      "[0.4876, 0.4876, 0.0]\n"
     ]
    }
   ],
   "source": [
    "def learn(x_train, y_train, x_test, alg=DecisionTreeRegressor):\n",
    "    regressor = alg()\n",
    "    regressor.fit(x_train, y_train)\n",
    "    return regressor.predict(x_test)\n",
    "\n",
    "def regressors():\n",
    "    learn_algs = [DecisionTreeRegressor, LinearRegression, GradientBoostingRegressor]\n",
    "    preds = [learn(x_train, y_train, x_test, alg=alg) for alg in learn_algs]\n",
    "    \n",
    "    # task 5\n",
    "    # Какая метрика наиболее подходит для оценки качества алгоритма?\n",
    "\n",
    "    accuracy_algs = [sklearn.metrics.mean_squared_error,\n",
    "                     sklearn.metrics.mean_absolute_error,\n",
    "                     sklearn.metrics.median_absolute_error]\n",
    "    \n",
    "    accs = [alg(y_test, preds[0]) for alg in accuracy_algs]\n",
    "    print(\"metrics\")\n",
    "    print(accs)\n",
    "\n",
    "regressors()"
   ]
  },
  {
   "cell_type": "markdown",
   "metadata": {},
   "source": [
    "Доля правильных ответов(accuracy) или f-mera - это лучшие метрики для классификации"
   ]
  },
  {
   "cell_type": "markdown",
   "metadata": {},
   "source": [
    "Лучшая метрика для Regression metrics - rmse"
   ]
  },
  {
   "cell_type": "code",
   "execution_count": 8,
   "metadata": {
    "collapsed": false
   },
   "outputs": [
    {
     "name": "stdout",
     "output_type": "stream",
     "text": [
      "learning\n",
      "classifiers\n",
      "[0.5108, 0.5556, 0.57]\n",
      "Best accuracy: 0.57\n"
     ]
    }
   ],
   "source": [
    "# task 4\n",
    "# Применить как минимум 3 различных алгоритма (например, метод опорных векторов, логистическая регрессия и градиентный бустинг).\n",
    "\n",
    "# task 6\n",
    "# Какой наибольшей доли правильных ответов (Accuracy) удалось достичь?\n",
    "\n",
    "\n",
    "from sklearn.svm import LinearSVC\n",
    "\n",
    "\n",
    "def best_classifier():\n",
    "    learn_algs = [DecisionTreeClassifier, LinearSVC, GradientBoostingClassifier]\n",
    "\n",
    "    print(\"learning\")\n",
    "    preds = [learn(x_train, y_train, x_test, alg=alg) for alg in learn_algs]\n",
    "    accs = [sklearn.metrics.accuracy_score(y_test, pred) for pred in preds]\n",
    "\n",
    "\n",
    "    print(\"classifiers\")\n",
    "    print(accs)\n",
    "    print(\"Best accuracy: {}\".format(max(accs)))\n",
    "\n",
    "best_classifier()"
   ]
  },
  {
   "cell_type": "markdown",
   "metadata": {},
   "source": [
    "boosting - 0.572472"
   ]
  },
  {
   "cell_type": "code",
   "execution_count": 14,
   "metadata": {
    "collapsed": false
   },
   "outputs": [
    {
     "name": "stdout",
     "output_type": "stream",
     "text": [
      "704844.7884718626\n"
     ]
    }
   ],
   "source": [
    "# task 7\n",
    "# Какой размер обучающей выборки необходим, чтобы достигнуть доли правильных ответов минимум 0.95?\n",
    "\n",
    "gen_x = np.array([i for i in [100., 1000., 10000., 100000., 200000., 300000., 400000., 500000.]])\n",
    "gen_y = np.array([[i] for i in [0.36, 0.532, 0.57, 0.5668, 0.56922, 0.5695066666666667, 0.56809, 0.5716]])\n",
    "\n",
    "lin = LinearRegression()\n",
    "lin.fit(gen_y, gen_x)\n",
    "print(lin.predict(.95)[0])"
   ]
  },
  {
   "cell_type": "code",
   "execution_count": 15,
   "metadata": {
    "collapsed": false
   },
   "outputs": [
    {
     "data": {
      "image/png": "[encoded data removed]",
      "text/plain": [
       "<Figure size 432x288 with 1 Axes>"
      ]
     },
     "metadata": {},
     "output_type": "display_data"
    }
   ],
   "source": [
    "# task 8\n",
    "# Как зависит доля правильных ответов от N?\n",
    "\n",
    "plt.plot(gen_x, gen_y, \"ro\")\n",
    "plt.show()"
   ]
  },
  {
   "cell_type": "code",
   "execution_count": 11,
   "metadata": {
    "collapsed": false
   },
   "outputs": [
    {
     "name": "stdout",
     "output_type": "stream",
     "text": [
      "loading files...\n"
     ]
    },
    {
     "name": "stderr",
     "output_type": "stream",
     "text": [
      "100%|██████████████████████████████████████████████████████████████████████████| 10000/10000 [00:01<00:00, 8474.58it/s]\n"
     ]
    },
    {
     "name": "stdout",
     "output_type": "stream",
     "text": [
      "loading files...\n"
     ]
    },
    {
     "name": "stderr",
     "output_type": "stream",
     "text": [
      "100%|██████████████████████████████████████████████████████████████████████████| 20000/20000 [00:02<00:00, 9583.13it/s]\n"
     ]
    },
    {
     "name": "stdout",
     "output_type": "stream",
     "text": [
      "loading files...\n"
     ]
    },
    {
     "name": "stderr",
     "output_type": "stream",
     "text": [
      "100%|██████████████████████████████████████████████████████████████████████████| 30000/30000 [00:03<00:00, 9416.20it/s]\n"
     ]
    },
    {
     "name": "stdout",
     "output_type": "stream",
     "text": [
      "loading files...\n"
     ]
    },
    {
     "name": "stderr",
     "output_type": "stream",
     "text": [
      "100%|██████████████████████████████████████████████████████████████████████████| 40000/40000 [00:04<00:00, 9084.71it/s]\n"
     ]
    },
    {
     "name": "stdout",
     "output_type": "stream",
     "text": [
      "loading files...\n"
     ]
    },
    {
     "name": "stderr",
     "output_type": "stream",
     "text": [
      "100%|██████████████████████████████████████████████████████████████████████████| 50000/50000 [00:05<00:00, 9954.21it/s]\n"
     ]
    },
    {
     "name": "stdout",
     "output_type": "stream",
     "text": [
      "loading files...\n"
     ]
    },
    {
     "name": "stderr",
     "output_type": "stream",
     "text": [
      "100%|██████████████████████████████████████████████████████████████████████████| 60000/60000 [00:06<00:00, 9726.05it/s]\n"
     ]
    },
    {
     "name": "stdout",
     "output_type": "stream",
     "text": [
      "loading files...\n"
     ]
    },
    {
     "name": "stderr",
     "output_type": "stream",
     "text": [
      "100%|██████████████████████████████████████████████████████████████████████████| 70000/70000 [00:07<00:00, 9087.37it/s]\n"
     ]
    },
    {
     "name": "stdout",
     "output_type": "stream",
     "text": [
      "loading files...\n"
     ]
    },
    {
     "name": "stderr",
     "output_type": "stream",
     "text": [
      "100%|██████████████████████████████████████████████████████████████████████████| 80000/80000 [00:08<00:00, 9090.91it/s]\n"
     ]
    },
    {
     "name": "stdout",
     "output_type": "stream",
     "text": [
      "loading files...\n"
     ]
    },
    {
     "name": "stderr",
     "output_type": "stream",
     "text": [
      "100%|██████████████████████████████████████████████████████████████████████████| 90000/90000 [00:10<00:00, 8326.39it/s]\n"
     ]
    },
    {
     "name": "stdout",
     "output_type": "stream",
     "text": [
      "loading files...\n"
     ]
    },
    {
     "name": "stderr",
     "output_type": "stream",
     "text": [
      "100%|████████████████████████████████████████████████████████████████████████| 100000/100000 [00:10<00:00, 9146.62it/s]\n"
     ]
    },
    {
     "name": "stdout",
     "output_type": "stream",
     "text": [
      "[10000, 20000, 30000, 40000, 50000, 60000, 70000, 80000, 90000, 100000]\n",
      "[0.5793333333333334, 0.571, 0.5671111111111111, 0.5531666666666667, 0.5593333333333333, 0.569, 0.576, 0.5625833333333333, 0.5735555555555556, 0.5668]\n"
     ]
    },
    {
     "data": {
      "image/png": "[encoded data removed]",
      "text/plain": [
       "<Figure size 432x288 with 1 Axes>"
      ]
     },
     "metadata": {},
     "output_type": "display_data"
    }
   ],
   "source": [
    "def get_accuracy(x_train, x_test, y_train, y_test):\n",
    "    pred = learn(x_train, y_train, x_test, alg=GradientBoostingClassifier)\n",
    "    return sklearn.metrics.accuracy_score(y_test, pred)\n",
    "\n",
    "gen_x = []\n",
    "gen_y = []\n",
    "\n",
    "for ml in [10000, 20000, 30000, 40000, 50000, 60000, 70000, 80000, 90000, 100000]:\n",
    "    gen_x.append(ml)\n",
    "    x,y = puf(max_lines = ml, max_files=1)\n",
    "    x_train, x_test, y_train, y_test = train_test_split(x, y,train_size=.85, test_size=.15, random_state=42)\n",
    "    gen_y.append(get_accuracy(x_train, x_test, y_train, y_test))\n",
    "\n",
    "\n",
    "print(gen_x)\n",
    "print(gen_y)\n",
    "plt.plot(gen_x, gen_y, \"ro\")\n",
    "\n",
    "plt.show()\n",
    "# task 9\n",
    "# Ответы на вопросы представьте в виде графиков."
   ]
  }
 ],
 "metadata": {
  "kernelspec": {
   "display_name": "Python 2",
   "language": "python",
   "name": "python2"
  },
  "language_info": {
   "codemirror_mode": {
    "name": "ipython",
    "version": 2
   },
   "file_extension": ".py",
   "mimetype": "text/x-python",
   "name": "python",
   "nbconvert_exporter": "python",
   "pygments_lexer": "ipython2",
   "version": "2.7.13"
  }
 },
 "nbformat": 4,
 "nbformat_minor": 2
}
