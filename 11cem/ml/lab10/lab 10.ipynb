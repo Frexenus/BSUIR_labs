{
 "cells": [
  {
   "cell_type": "code",
   "execution_count": 1,
   "metadata": {
    "collapsed": false
   },
   "outputs": [
    {
     "name": "stderr",
     "output_type": "stream",
     "text": [
      "C:\\Users\\keipa\\Anaconda2\\lib\\site-packages\\sklearn\\ensemble\\weight_boosting.py:29: DeprecationWarning: numpy.core.umath_tests is an internal NumPy module and should not be imported. It will be removed in a future NumPy release.\n",
      "  from numpy.core.umath_tests import inner1d\n"
     ]
    }
   ],
   "source": [
    "# -*- coding: utf-8 -*-\n",
    "\n",
    "import numpy as np\n",
    "import matplotlib.pyplot as plt\n",
    "import matplotlib.image as img\n",
    "from scipy import misc\n",
    "from datetime import datetime\n",
    "from tqdm import tqdm\n",
    "import pandas as pd\n",
    "import matplotlib.pyplot as plt\n",
    "from tqdm import tqdm\n",
    "from scipy.io import loadmat\n",
    "from mpl_toolkits.mplot3d import axes3d\n",
    "import matplotlib.pyplot as plt\n",
    "import numpy as np\n",
    "import copy\n",
    "from matplotlib import cm\n",
    "from matplotlib.animation import FuncAnimation\n",
    "import scipy.optimize\n",
    "import networkx as nx\n",
    "import os\n",
    "from sklearn import svm\n",
    "from scipy.spatial.distance import cdist\n",
    "from scipy.cluster.hierarchy import fcluster\n",
    "from scipy.cluster import hierarchy\n",
    "from scipy.spatial.distance import pdist\n",
    "from scipy import stats\n",
    "from sklearn.tree import *\n",
    "from sklearn.ensemble import *\n",
    "\n",
    "\n",
    "import math\n",
    "from sklearn.model_selection import train_test_split"
   ]
  },
  {
   "cell_type": "code",
   "execution_count": 2,
   "metadata": {
    "collapsed": false
   },
   "outputs": [],
   "source": [
    "\n",
    "def rmse(predictions, targets):\n",
    "    differences = predictions - targets                       #the DIFFERENCEs.\n",
    "    differences_squared = differences ** 2                    #the SQUAREs of ^\n",
    "    mean_of_differences_squared = differences_squared.mean()  #the MEAN of ^\n",
    "    rmse_val = np.sqrt(mean_of_differences_squared)           #ROOT of ^\n",
    "    return rmse_val                                           #get the ^\n",
    "\n",
    "# remove random\n",
    "np.random.seed(42)"
   ]
  },
  {
   "cell_type": "code",
   "execution_count": 3,
   "metadata": {
    "collapsed": true
   },
   "outputs": [],
   "source": [
    "# task 1\n",
    "# Загрузите данные с помощью библиотеки sklearn.\n",
    "\n",
    "from sklearn.datasets import load_boston\n",
    "boston = load_boston()\n",
    "x = boston[\"data\"]\n",
    "y = boston[\"target\"]\n",
    "\n",
    "\n",
    "def norm(x):\n",
    "    m, n = x.shape\n",
    "    for columnIndex in range(n):\n",
    "        column = x[:, columnIndex]\n",
    "        min_value, max_value = min(column), max(column)\n",
    "        denominator = max_value - min_value if (max_value - min_value) != 0 else 1\n",
    "        normalize_column = (column - min_value) / denominator\n",
    "        x[:, columnIndex] = normalize_column\n",
    "    return x"
   ]
  },
  {
   "cell_type": "code",
   "execution_count": 4,
   "metadata": {
    "collapsed": true
   },
   "outputs": [],
   "source": [
    "# task 2\n",
    "# Разделите выборку на обучающую (75%) и контрольную (25%).\n",
    "\n",
    "x_train, x_test, y_train, y_test = train_test_split(x, y,train_size=.75, test_size=.25, random_state=42)\n",
    "features = boston.feature_names\n"
   ]
  },
  {
   "cell_type": "code",
   "execution_count": 5,
   "metadata": {
    "collapsed": true
   },
   "outputs": [],
   "source": [
    "# task 4\n",
    "# Заведите массив для объектов DecisionTreeRegressor (они будут использоваться в качестве базовых алгоритмов) и для вещественных чисел (коэффициенты перед базовыми алгоритмами).\n",
    "DecisionTreeRegressors = []\n",
    "alphas = []\n",
    "tree_count = 50\n",
    "max_depth = 5\n",
    "random_state = 42\n"
   ]
  },
  {
   "cell_type": "code",
   "execution_count": 6,
   "metadata": {
    "collapsed": false
   },
   "outputs": [
    {
     "name": "stdout",
     "output_type": "stream",
     "text": [
      "Boosted Decision tree rmse: 3.32175540784\n"
     ]
    }
   ],
   "source": [
    "# task 5\n",
    "# В цикле обучите последовательно 50 решающих деревьев с параметрами max_depth=5 и random_state=42 (остальные параметры - по умолчанию). Каждое дерево должно обучаться на одном и том же множестве объектов, но ответы, которые учится прогнозировать дерево, будут меняться в соответствие с отклонением истинных значений от предсказанных.\n",
    "y_shift = y_train.copy()\n",
    "for i in range(tree_count):\n",
    "    regressor = DecisionTreeRegressor(random_state=random_state, max_depth=max_depth)\n",
    "    regressor.fit(x_train, y_shift)\n",
    "    y_shift -= y_shift - regressor.predict(x_train)\n",
    "    DecisionTreeRegressors.append(regressor)\n",
    "\n",
    "print(\"Boosted Decision tree rmse: {}\".format(rmse(DecisionTreeRegressors[-1].predict(x_test), y_test)))\n"
   ]
  },
  {
   "cell_type": "code",
   "execution_count": 7,
   "metadata": {
    "collapsed": false
   },
   "outputs": [
    {
     "name": "stdout",
     "output_type": "stream",
     "text": [
      "0.9 Boosted Decision tree rmse: 22.8619094779\n"
     ]
    }
   ],
   "source": [
    "# task 6\n",
    "# Попробуйте всегда брать коэффициент равным 0.9. Обычно оправдано выбирать коэффициент значительно меньшим - порядка 0.05 или 0.1, но на стандартном наборе данных будет всего 50 деревьев, возьмите для начала шаг побольше.\n",
    "\n",
    "DecisionTreeRegressors = []\n",
    "tree_count = 50\n",
    "max_depth = 5\n",
    "random_state = 42\n",
    "\n",
    "y_shift = y_train.copy()\n",
    "for i in range(tree_count):\n",
    "    regressor = DecisionTreeRegressor(random_state=random_state, max_depth=max_depth)\n",
    "    regressor.fit(x_train, y_shift)\n",
    "    y_shift -= (y_shift - 0.9*regressor.predict(x_train))\n",
    "    DecisionTreeRegressors.append(regressor)\n",
    "\n",
    "print(\"0.9 Boosted Decision tree rmse: {}\".format(rmse(DecisionTreeRegressors[-1].predict(x_test), y_test)))"
   ]
  },
  {
   "cell_type": "code",
   "execution_count": null,
   "metadata": {
    "collapsed": true
   },
   "outputs": [],
   "source": [
    "# task 7\n",
    "# В процессе реализации обучения вам потребуется функция, которая будет вычислять прогноз построенной на данный момент композиции деревьев на выборке X. Реализуйте ее. Эта же функция поможет вам получить прогноз на контрольной выборке и оценить качество работы вашего алгоритма с помощью mean_squared_error в sklearn.metrics.\n",
    "\n",
    "def rmse(predictions, targets):\n",
    "    differences = predictions - targets                       #the DIFFERENCEs.\n",
    "    differences_squared = differences ** 2                    #the SQUAREs of ^\n",
    "    mean_of_differences_squared = differences_squared.mean()  #the MEAN of ^\n",
    "    rmse_val = np.sqrt(mean_of_differences_squared)           #ROOT of ^\n",
    "    return rmse_val                                           #get the ^"
   ]
  },
  {
   "cell_type": "code",
   "execution_count": 8,
   "metadata": {
    "collapsed": false
   },
   "outputs": [
    {
     "name": "stdout",
     "output_type": "stream",
     "text": [
      "Incremental Boosted Decision tree rmse: 22.9904379302\n",
      "Ready to go Gradient Boosting Regressor rmse: 3.0449243991\n"
     ]
    }
   ],
   "source": [
    "# task 8\n",
    "# Попробуйте уменьшать вес перед каждым алгоритмом с каждой следующей итерацией по формуле 0.9 / (1.0 + i), где i - номер итерации (от 0 до 49). Какое получилось качество на контрольной выборке?\n",
    "\n",
    "DecisionTreeRegressors = []\n",
    "tree_count = 50\n",
    "max_depth = 5\n",
    "random_state = 42\n",
    "\n",
    "y_shift = y_train.copy()\n",
    "for i in range(tree_count):\n",
    "    regressor = DecisionTreeRegressor(random_state=random_state, max_depth=max_depth)\n",
    "    regressor.fit(x_train, y_shift)\n",
    "    y_shift -= (y_shift - 0.9/(1.+i)*regressor.predict(x_train))\n",
    "    DecisionTreeRegressors.append(regressor)\n",
    "\n",
    "print(\"Incremental Boosted Decision tree rmse: {}\".format(rmse(DecisionTreeRegressors[-1].predict(x_test), y_test)))\n",
    "\n",
    "\n",
    "rtg_imp = GradientBoostingRegressor(random_state=random_state, max_depth=max_depth, alpha=0.9)\n",
    "rtg_imp.fit(x_train, y_train)\n",
    "print(\"Ready to go Gradient Boosting Regressor rmse: {}\".format(rmse(rtg_imp.predict(x_test), y_test)))\n",
    "\n",
    "from sklearn.linear_model import LinearRegression"
   ]
  },
  {
   "cell_type": "code",
   "execution_count": 9,
   "metadata": {
    "collapsed": false
   },
   "outputs": [
    {
     "data": {
      "image/png": "[encoded data removed]",
      "text/plain": [
       "<Figure size 432x288 with 1 Axes>"
      ]
     },
     "metadata": {},
     "output_type": "display_data"
    }
   ],
   "source": [
    "# task 9\n",
    "# Исследуйте, переобучается ли градиентный бустинг с ростом числа итераций, а также с ростом глубины деревьев. Постройте графики. Какие выводы можно сделать?\n",
    "\n",
    "\n",
    "DecisionTreeRegressors = []\n",
    "tree_count = 50\n",
    "max_depth = 5\n",
    "random_state = 42\n",
    "\n",
    "error_rates = []\n",
    "\n",
    "y_shift = y_train.copy()\n",
    "for i in range(10):\n",
    "    regressor = DecisionTreeRegressor(random_state=random_state, max_depth=i+1)\n",
    "    regressor.fit(x_train, y_train)\n",
    "    DecisionTreeRegressors.append(regressor)\n",
    "    error_rates.append(rmse(regressor.predict(x_test), y_test))\n",
    "\n",
    "plt.plot(error_rates)\n",
    "plt.show()\n",
    "# переобучение с ростом глубины деревьев\n",
    "# нет\n",
    "\n",
    "\n"
   ]
  },
  {
   "cell_type": "code",
   "execution_count": 10,
   "metadata": {
    "collapsed": false
   },
   "outputs": [
    {
     "data": {
      "image/png": "[encoded data removed]",
      "text/plain": [
       "<Figure size 432x288 with 1 Axes>"
      ]
     },
     "metadata": {},
     "output_type": "display_data"
    }
   ],
   "source": [
    "DecisionTreeRegressors = []\n",
    "tree_count = 50\n",
    "max_depth = 5\n",
    "random_state = 42\n",
    "\n",
    "error_rates = []\n",
    "\n",
    "y_shift = y_train.copy()\n",
    "for i in range(tree_count):\n",
    "    regressor = DecisionTreeRegressor(random_state=random_state, max_depth=max_depth)\n",
    "    regressor.fit(x_train, y_shift)\n",
    "    y_shift -= (y_shift - 0.9*regressor.predict(x_train))\n",
    "    DecisionTreeRegressors.append(regressor)\n",
    "    error_rates.append(rmse(regressor.predict(x_test), y_test))\n",
    "\n",
    "plt.plot(error_rates)\n",
    "plt.show()\n",
    "\n",
    "# переобучение ростом числа итераций,\n",
    "# да"
   ]
  },
  {
   "cell_type": "code",
   "execution_count": 11,
   "metadata": {
    "collapsed": false
   },
   "outputs": [
    {
     "name": "stdout",
     "output_type": "stream",
     "text": [
      "Linear regression rmse: 4.70443172916\n"
     ]
    }
   ],
   "source": [
    "# task 10\n",
    "# Сравните качество, получаемое с помощью градиентного бустинга с качеством работы линейной регрессии. Для этого обучите LinearRegression из sklearn.linear_model (с параметрами по умолчанию) на обучающей выборке и оцените для прогнозов полученного алгоритма на тестовой выборке RMSE.\n",
    "\n",
    "from sklearn.metrics import mean_squared_error\n",
    "from math import sqrt\n",
    "\n",
    "lin = LinearRegression().fit(x_train, y_train)\n",
    "y_predicted = lin.predict(x_test)\n",
    "\n",
    "rmse = rmse(y_predicted, y_test)\n",
    "print(\"Linear regression rmse: {}\".format(rmse))"
   ]
  }
 ],
 "metadata": {
  "kernelspec": {
   "display_name": "Python 2",
   "language": "python",
   "name": "python2"
  },
  "language_info": {
   "codemirror_mode": {
    "name": "ipython",
    "version": 2
   },
   "file_extension": ".py",
   "mimetype": "text/x-python",
   "name": "python",
   "nbconvert_exporter": "python",
   "pygments_lexer": "ipython2",
   "version": "2.7.13"
  }
 },
 "nbformat": 4,
 "nbformat_minor": 2
}
